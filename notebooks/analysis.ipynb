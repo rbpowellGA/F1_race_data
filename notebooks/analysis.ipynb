{
 "cells": [
  {
   "cell_type": "code",
   "execution_count": 1,
   "metadata": {},
   "outputs": [],
   "source": [
    "## Importing libraries\n",
    "\n",
    "import pandas as pd\n",
    "import numpy as np\n",
    "import matplotlib.pyplot as plt\n",
    "import seaborn as sns"
   ]
  },
  {
   "cell_type": "code",
   "execution_count": 8,
   "metadata": {},
   "outputs": [],
   "source": [
    "## Reading csv and excel files into dataframes\n",
    "tm145 = pd.read_csv('../data/race_data/TelemetryData_14577742557187250604.csv', low_memory=False)\n",
    "sd145 = pd.read_csv('../data/race_data/SessionData_14577742557187250604.csv', low_memory=False)\n",
    "sd102 = pd.read_csv('../data/race_data/SessionData_10230136787177318441.csv', low_memory=False)\n",
    "sd108 = pd.read_csv('../data/race_data/SessionData_1087987310493855854.csv', low_memory=False)\n",
    "sd117 = pd.read_csv('../data/race_data/SessionData_11752605864096667831.csv', low_memory=False)\n",
    "pilot1_102 = pd.read_excel('../data/excel_files/driver_1_tm102.xlsx')\n",
    "pilot1_108 = pd.read_excel('../data/excel_files/driver_1_tm108.xlsx')\n",
    "pilot1_117 = pd.read_excel('../data/excel_files/driver_1_tm117.xlsx')"
   ]
  },
  {
   "cell_type": "markdown",
   "metadata": {},
   "source": [
    "##### I pushed all .csv files from the dataset onto a postgres database for manipulation using src/csv_to_db.py\n",
    "##### Datasets filtered by pilot were created using sql_queries/* and src/convert_sqls.py"
   ]
  },
  {
   "cell_type": "code",
   "execution_count": 9,
   "metadata": {},
   "outputs": [
    {
     "data": {
      "text/plain": [
       "Index(['sessionTime', 'frameIdentifier', 'pilot_index', 'worldPositionX',\n",
       "       'worldPositionY', 'worldPositionZ', 'worldVelocityX', 'worldVelocityY',\n",
       "       'worldVelocityZ', 'worldForwardDirX', 'worldForwardDirY',\n",
       "       'worldForwardDirZ', 'worldRightDirX', 'worldRightDirY',\n",
       "       'worldRightDirZ', 'gForceLateral', 'gForceLongitudinal',\n",
       "       'gForceVertical', 'yaw', 'pitch', 'roll', 'speed', 'throttle', 'steer',\n",
       "       'brake', 'clutch', 'gear', 'engineRPM', 'drs', 'brakesTemperature',\n",
       "       'tyresSurfaceTemperature', 'tyresInnerTemperature', 'engineTemperature',\n",
       "       'tyresPressure', 'surfaceType', 'fuelMix', 'pitLimiterStatus',\n",
       "       'fuelInTank', 'fuelRemainingLaps', 'tyresWear', 'actualTyreCompound',\n",
       "       'tyresDamage', 'ersStoreEnergy', 'ersDeployMode',\n",
       "       'ersHarvestedThisLapMGUK', 'ersHarvestedThisLapMGUH',\n",
       "       'ersDeployedThisLap', 'carPosition', 'currentLapTime', 'currentLapNum',\n",
       "       'lapDistance', 'totalDistance', 'pitStatus', 'sector', 'driverStatus',\n",
       "       'resultStatus'],\n",
       "      dtype='object')"
      ]
     },
     "execution_count": 9,
     "metadata": {},
     "output_type": "execute_result"
    }
   ],
   "source": [
    "tm145.columns"
   ]
  }
 ],
 "metadata": {
  "kernelspec": {
   "display_name": "base",
   "language": "python",
   "name": "python3"
  },
  "language_info": {
   "codemirror_mode": {
    "name": "ipython",
    "version": 3
   },
   "file_extension": ".py",
   "mimetype": "text/x-python",
   "name": "python",
   "nbconvert_exporter": "python",
   "pygments_lexer": "ipython3",
   "version": "3.11.7"
  }
 },
 "nbformat": 4,
 "nbformat_minor": 2
}
